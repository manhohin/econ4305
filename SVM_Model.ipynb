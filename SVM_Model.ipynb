{
  "nbformat": 4,
  "nbformat_minor": 0,
  "metadata": {
    "colab": {
      "provenance": [],
      "gpuType": "T4"
    },
    "kernelspec": {
      "name": "python3",
      "display_name": "Python 3"
    },
    "language_info": {
      "name": "python"
    },
    "accelerator": "GPU"
  },
  "cells": [
    {
      "cell_type": "code",
      "execution_count": null,
      "metadata": {
        "id": "eUTpaGJPzBaH"
      },
      "outputs": [],
      "source": [
        "import pandas as pd\n",
        "import numpy as np\n",
        "import matplotlib.pyplot as plt\n",
        "import seaborn as sns\n",
        "\n",
        "\n",
        "from sklearn.pipeline import Pipeline\n",
        "from sklearn.preprocessing import StandardScaler\n",
        "from sklearn.preprocessing import MinMaxScaler\n",
        "from sklearn.model_selection import GridSearchCV\n",
        "from sklearn.model_selection import RandomizedSearchCV\n",
        "\n",
        "from sklearn.experimental import enable_halving_search_cv\n",
        "from sklearn.model_selection import HalvingGridSearchCV\n",
        "from sklearn.model_selection import HalvingRandomSearchCV\n",
        "\n",
        "from scipy.stats import uniform\n",
        "\n",
        "from sklearn.model_selection import train_test_split, cross_val_score, GridSearchCV\n",
        "from sklearn.linear_model import LogisticRegression, SGDClassifier\n",
        "from sklearn.tree import DecisionTreeClassifier\n",
        "from sklearn.svm import SVC, SVR\n",
        "\n",
        "from sklearn.svm import LinearSVC, LinearSVR\n",
        "\n",
        "from sklearn import tree\n",
        "from sklearn import metrics\n",
        "from sklearn.metrics import roc_curve, auc, classification_report, confusion_matrix, accuracy_score\n",
        "from sklearn.metrics import  accuracy_score, f1_score, precision_score, recall_score, roc_auc_score\n",
        "\n",
        "from sklearn.decomposition import PCA\n",
        "\n",
        "import io\n",
        "from google.colab import files\n",
        "\n",
        "import time\n",
        "\n",
        "\n"
      ]
    },
    {
      "cell_type": "code",
      "source": [
        "excel_path = 'S&P 500 Index Dataset.xlsx'\n",
        "df = pd.read_excel(excel_path, sheet_name=1, header=0, index_col=0, parse_dates=False)\n",
        "\n",
        "df = df.dropna() #drop rows with NaN values\n",
        "\n",
        "df['direction'] = (df['Close'].shift(-5)>df['Close']).astype(int)\n",
        "print(df['direction'].value_counts())"
      ],
      "metadata": {
        "colab": {
          "base_uri": "https://localhost:8080/"
        },
        "id": "E-EhKbauPR4o",
        "outputId": "552d725e-4491-4b15-b700-71b5190a70f0"
      },
      "execution_count": null,
      "outputs": [
        {
          "output_type": "stream",
          "name": "stdout",
          "text": [
            "1    5193\n",
            "0    3800\n",
            "Name: direction, dtype: int64\n"
          ]
        }
      ]
    },
    {
      "cell_type": "code",
      "source": [
        "df_train = df.iloc[:-100]\n",
        "df_test = df.iloc[-100:]"
      ],
      "metadata": {
        "id": "CjGS9a5gP1NC"
      },
      "execution_count": null,
      "outputs": []
    },
    {
      "cell_type": "code",
      "source": [
        "df = df_train"
      ],
      "metadata": {
        "id": "flJQ-OUFP9IX"
      },
      "execution_count": null,
      "outputs": []
    },
    {
      "cell_type": "code",
      "source": [
        "df.shape"
      ],
      "metadata": {
        "colab": {
          "base_uri": "https://localhost:8080/"
        },
        "id": "z7kwY2mXQBA4",
        "outputId": "69a39ccf-8a1a-4462-e760-ad4fa9699d35"
      },
      "execution_count": null,
      "outputs": [
        {
          "output_type": "execute_result",
          "data": {
            "text/plain": [
              "(8893, 135)"
            ]
          },
          "metadata": {},
          "execution_count": 14
        }
      ]
    },
    {
      "cell_type": "code",
      "source": [
        "sp_p = df[df['direction']==1]\n",
        "sp_n = df[df['direction']==0]\n",
        "\n",
        "feature_df = df.drop(columns = ['direction'])\n",
        "\n",
        "X = np.asarray(feature_df) #independent\n",
        "\n",
        "scaler = StandardScaler(copy=True, with_mean=True, with_std=True) #Standardise features and reduce dimensionality\n",
        "df_scaled = scaler.fit_transform(X)\n",
        "pca = PCA(n_components=20, random_state=1)\n",
        "df_pca = pca.fit_transform(df_scaled)\n",
        "df_pca.shape\n",
        "\n",
        "X = np.asarray(df_pca)\n",
        "\n",
        "y = np.asarray(df['direction']) #dependent\n",
        "\n",
        "X_train, X_test, y_train, y_test = train_test_split(X, y, test_size = 0.3, random_state = 1)\n",
        "\n",
        "svc = SVC(max_iter = -1, random_state = 1)\n",
        "start=time.time()\n",
        "svc.fit(X_train,y_train)\n",
        "end=time.time()\n",
        "print(\"Running Time:\", end - start)\n",
        "y_pred = svc.predict(X_test)\n",
        "\n",
        "print(classification_report(y_test,y_pred))\n",
        "\n",
        "#grid search\n",
        "\n",
        "hyperparameters_svc = {'C' : [100], 'kernel' : ['poly']}\n",
        "\n",
        "gs_svc = HalvingGridSearchCV(estimator= svc, param_grid=hyperparameters_svc, cv=10, scoring='accuracy', verbose=0, n_jobs=-1) #HalvingGridSearchCV if too long\n"
      ],
      "metadata": {
        "colab": {
          "base_uri": "https://localhost:8080/"
        },
        "id": "y2bKSBh4Pr1W",
        "outputId": "45b74000-dd36-483b-c17c-f3122c0f2ddc"
      },
      "execution_count": null,
      "outputs": [
        {
          "output_type": "stream",
          "name": "stdout",
          "text": [
            "Running Time: 1.9215893745422363\n",
            "              precision    recall  f1-score   support\n",
            "\n",
            "           0       0.62      0.12      0.20      1119\n",
            "           1       0.60      0.95      0.73      1549\n",
            "\n",
            "    accuracy                           0.60      2668\n",
            "   macro avg       0.61      0.53      0.46      2668\n",
            "weighted avg       0.61      0.60      0.51      2668\n",
            "\n"
          ]
        }
      ]
    },
    {
      "cell_type": "code",
      "source": [
        "gs_svc"
      ],
      "metadata": {
        "colab": {
          "base_uri": "https://localhost:8080/",
          "height": 118
        },
        "id": "CRo_lxchcYqk",
        "outputId": "343dc186-7afe-4101-dc9b-00e0c7e3cf92"
      },
      "execution_count": null,
      "outputs": [
        {
          "output_type": "execute_result",
          "data": {
            "text/plain": [
              "HalvingGridSearchCV(cv=10, estimator=SVC(random_state=1), n_jobs=-1,\n",
              "                    param_grid={'C': [100], 'kernel': ['poly']},\n",
              "                    scoring='accuracy')"
            ],
            "text/html": [
              "<style>#sk-container-id-2 {color: black;background-color: white;}#sk-container-id-2 pre{padding: 0;}#sk-container-id-2 div.sk-toggleable {background-color: white;}#sk-container-id-2 label.sk-toggleable__label {cursor: pointer;display: block;width: 100%;margin-bottom: 0;padding: 0.3em;box-sizing: border-box;text-align: center;}#sk-container-id-2 label.sk-toggleable__label-arrow:before {content: \"▸\";float: left;margin-right: 0.25em;color: #696969;}#sk-container-id-2 label.sk-toggleable__label-arrow:hover:before {color: black;}#sk-container-id-2 div.sk-estimator:hover label.sk-toggleable__label-arrow:before {color: black;}#sk-container-id-2 div.sk-toggleable__content {max-height: 0;max-width: 0;overflow: hidden;text-align: left;background-color: #f0f8ff;}#sk-container-id-2 div.sk-toggleable__content pre {margin: 0.2em;color: black;border-radius: 0.25em;background-color: #f0f8ff;}#sk-container-id-2 input.sk-toggleable__control:checked~div.sk-toggleable__content {max-height: 200px;max-width: 100%;overflow: auto;}#sk-container-id-2 input.sk-toggleable__control:checked~label.sk-toggleable__label-arrow:before {content: \"▾\";}#sk-container-id-2 div.sk-estimator input.sk-toggleable__control:checked~label.sk-toggleable__label {background-color: #d4ebff;}#sk-container-id-2 div.sk-label input.sk-toggleable__control:checked~label.sk-toggleable__label {background-color: #d4ebff;}#sk-container-id-2 input.sk-hidden--visually {border: 0;clip: rect(1px 1px 1px 1px);clip: rect(1px, 1px, 1px, 1px);height: 1px;margin: -1px;overflow: hidden;padding: 0;position: absolute;width: 1px;}#sk-container-id-2 div.sk-estimator {font-family: monospace;background-color: #f0f8ff;border: 1px dotted black;border-radius: 0.25em;box-sizing: border-box;margin-bottom: 0.5em;}#sk-container-id-2 div.sk-estimator:hover {background-color: #d4ebff;}#sk-container-id-2 div.sk-parallel-item::after {content: \"\";width: 100%;border-bottom: 1px solid gray;flex-grow: 1;}#sk-container-id-2 div.sk-label:hover label.sk-toggleable__label {background-color: #d4ebff;}#sk-container-id-2 div.sk-serial::before {content: \"\";position: absolute;border-left: 1px solid gray;box-sizing: border-box;top: 0;bottom: 0;left: 50%;z-index: 0;}#sk-container-id-2 div.sk-serial {display: flex;flex-direction: column;align-items: center;background-color: white;padding-right: 0.2em;padding-left: 0.2em;position: relative;}#sk-container-id-2 div.sk-item {position: relative;z-index: 1;}#sk-container-id-2 div.sk-parallel {display: flex;align-items: stretch;justify-content: center;background-color: white;position: relative;}#sk-container-id-2 div.sk-item::before, #sk-container-id-2 div.sk-parallel-item::before {content: \"\";position: absolute;border-left: 1px solid gray;box-sizing: border-box;top: 0;bottom: 0;left: 50%;z-index: -1;}#sk-container-id-2 div.sk-parallel-item {display: flex;flex-direction: column;z-index: 1;position: relative;background-color: white;}#sk-container-id-2 div.sk-parallel-item:first-child::after {align-self: flex-end;width: 50%;}#sk-container-id-2 div.sk-parallel-item:last-child::after {align-self: flex-start;width: 50%;}#sk-container-id-2 div.sk-parallel-item:only-child::after {width: 0;}#sk-container-id-2 div.sk-dashed-wrapped {border: 1px dashed gray;margin: 0 0.4em 0.5em 0.4em;box-sizing: border-box;padding-bottom: 0.4em;background-color: white;}#sk-container-id-2 div.sk-label label {font-family: monospace;font-weight: bold;display: inline-block;line-height: 1.2em;}#sk-container-id-2 div.sk-label-container {text-align: center;}#sk-container-id-2 div.sk-container {/* jupyter's `normalize.less` sets `[hidden] { display: none; }` but bootstrap.min.css set `[hidden] { display: none !important; }` so we also need the `!important` here to be able to override the default hidden behavior on the sphinx rendered scikit-learn.org. See: https://github.com/scikit-learn/scikit-learn/issues/21755 */display: inline-block !important;position: relative;}#sk-container-id-2 div.sk-text-repr-fallback {display: none;}</style><div id=\"sk-container-id-2\" class=\"sk-top-container\"><div class=\"sk-text-repr-fallback\"><pre>HalvingGridSearchCV(cv=10, estimator=SVC(random_state=1), n_jobs=-1,\n",
              "                    param_grid={&#x27;C&#x27;: [100], &#x27;kernel&#x27;: [&#x27;poly&#x27;]},\n",
              "                    scoring=&#x27;accuracy&#x27;)</pre><b>In a Jupyter environment, please rerun this cell to show the HTML representation or trust the notebook. <br />On GitHub, the HTML representation is unable to render, please try loading this page with nbviewer.org.</b></div><div class=\"sk-container\" hidden><div class=\"sk-item sk-dashed-wrapped\"><div class=\"sk-label-container\"><div class=\"sk-label sk-toggleable\"><input class=\"sk-toggleable__control sk-hidden--visually\" id=\"sk-estimator-id-4\" type=\"checkbox\" ><label for=\"sk-estimator-id-4\" class=\"sk-toggleable__label sk-toggleable__label-arrow\">HalvingGridSearchCV</label><div class=\"sk-toggleable__content\"><pre>HalvingGridSearchCV(cv=10, estimator=SVC(random_state=1), n_jobs=-1,\n",
              "                    param_grid={&#x27;C&#x27;: [100], &#x27;kernel&#x27;: [&#x27;poly&#x27;]},\n",
              "                    scoring=&#x27;accuracy&#x27;)</pre></div></div></div><div class=\"sk-parallel\"><div class=\"sk-parallel-item\"><div class=\"sk-item\"><div class=\"sk-label-container\"><div class=\"sk-label sk-toggleable\"><input class=\"sk-toggleable__control sk-hidden--visually\" id=\"sk-estimator-id-5\" type=\"checkbox\" ><label for=\"sk-estimator-id-5\" class=\"sk-toggleable__label sk-toggleable__label-arrow\">estimator: SVC</label><div class=\"sk-toggleable__content\"><pre>SVC(random_state=1)</pre></div></div></div><div class=\"sk-serial\"><div class=\"sk-item\"><div class=\"sk-estimator sk-toggleable\"><input class=\"sk-toggleable__control sk-hidden--visually\" id=\"sk-estimator-id-6\" type=\"checkbox\" ><label for=\"sk-estimator-id-6\" class=\"sk-toggleable__label sk-toggleable__label-arrow\">SVC</label><div class=\"sk-toggleable__content\"><pre>SVC(random_state=1)</pre></div></div></div></div></div></div></div></div></div></div>"
            ]
          },
          "metadata": {},
          "execution_count": 16
        }
      ]
    },
    {
      "cell_type": "code",
      "source": [
        "start=time.time()\n",
        "tuned_model_svc = gs_svc.fit(X_train, y_train)\n",
        "end=time.time()\n",
        "print(\"Running Time:\", end - start)\n",
        "\n",
        "best_accuracy = tuned_model_svc.best_score_\n",
        "print('Accuracy on Cross Validation set :', best_accuracy)\n",
        "\n",
        "best_parameters = tuned_model_svc.best_params_\n",
        "print(best_parameters)\n",
        "\n",
        "y_pred_svc = tuned_model_svc.predict(X_test)\n",
        "\n",
        "print(classification_report(y_test, y_pred_svc))\n",
        "\n",
        "#confusion matrix\n",
        "c_mat = metrics.confusion_matrix(y_test, y_pred_svc)\n",
        "TN = c_mat[0][0]\n",
        "FN = c_mat[1][0]\n",
        "TP = c_mat[1][1]\n",
        "FP = c_mat[0][1]\n",
        "\n",
        "fig, ax=plt.subplots()\n",
        "sns.heatmap(pd.DataFrame(metrics.confusion_matrix(y_test, y_pred_svc)), annot=True, cmap=\"Blues\" ,fmt='g')\n",
        "plt.title('Confusion matrix'); plt.ylabel('Actual label'); plt.xlabel('Predicted label')\n",
        "ax.xaxis.set_ticklabels(['0', '1']); ax.yaxis.set_ticklabels(['0','1'])\n",
        "plt.show()"
      ],
      "metadata": {
        "colab": {
          "base_uri": "https://localhost:8080/",
          "height": 686
        },
        "id": "bYBMXt42QFsX",
        "outputId": "72743a85-cb71-4587-fd5c-6074b35eb991"
      },
      "execution_count": null,
      "outputs": [
        {
          "output_type": "stream",
          "name": "stdout",
          "text": [
            "Running Time: 155.4174292087555\n",
            "Accuracy on Cross Validation set : 0.6514056556543641\n",
            "{'C': 100, 'kernel': 'poly'}\n",
            "              precision    recall  f1-score   support\n",
            "\n",
            "           0       0.59      0.42      0.49      1119\n",
            "           1       0.65      0.79      0.71      1549\n",
            "\n",
            "    accuracy                           0.63      2668\n",
            "   macro avg       0.62      0.60      0.60      2668\n",
            "weighted avg       0.63      0.63      0.62      2668\n",
            "\n"
          ]
        },
        {
          "output_type": "display_data",
          "data": {
            "text/plain": [
              "<Figure size 640x480 with 2 Axes>"
            ],
            "image/png": "[encoded data removed]"
          },
          "metadata": {}
        }
      ]
    },
    {
      "cell_type": "code",
      "source": [
        "feature_df = df_test.drop(columns = ['direction'])\n",
        "X = np.asarray(feature_df) #independent\n",
        "df_scaled = scaler.fit_transform(X)\n",
        "pca = PCA(n_components=20, random_state=1)\n",
        "df_pca = pca.fit_transform(df_scaled)\n",
        "df_pca.shape\n",
        "\n",
        "X = np.asarray(df_pca)\n",
        "y = np.asarray(df_test['direction']) #dependent\n"
      ],
      "metadata": {
        "id": "6RD54QNNb4ri"
      },
      "execution_count": null,
      "outputs": []
    },
    {
      "cell_type": "code",
      "source": [
        "y_pred_svc = tuned_model_svc.predict(X)\n",
        "\n",
        "print(classification_report(y, y_pred_svc))\n",
        "\n",
        "#confusion matrix\n",
        "c_mat = metrics.confusion_matrix(y, y_pred_svc)\n",
        "TN = c_mat[0][0]\n",
        "FN = c_mat[1][0]\n",
        "TP = c_mat[1][1]\n",
        "FP = c_mat[0][1]\n",
        "\n",
        "fig, ax=plt.subplots()\n",
        "sns.heatmap(pd.DataFrame(metrics.confusion_matrix(y, y_pred_svc)), annot=True, cmap=\"Blues\" ,fmt='g')\n",
        "plt.title('Confusion matrix'); plt.ylabel('Actual label'); plt.xlabel('Predicted label')\n",
        "ax.xaxis.set_ticklabels(['0', '1']); ax.yaxis.set_ticklabels(['0','1'])\n",
        "plt.show()"
      ],
      "metadata": {
        "colab": {
          "base_uri": "https://localhost:8080/",
          "height": 633
        },
        "id": "kZVzmZ0oezWF",
        "outputId": "ba51817c-18c8-41d2-803e-9871d48ea541"
      },
      "execution_count": null,
      "outputs": [
        {
          "output_type": "stream",
          "name": "stdout",
          "text": [
            "              precision    recall  f1-score   support\n",
            "\n",
            "           0       0.39      0.31      0.34        52\n",
            "           1       0.39      0.48      0.43        48\n",
            "\n",
            "    accuracy                           0.39       100\n",
            "   macro avg       0.39      0.39      0.39       100\n",
            "weighted avg       0.39      0.39      0.39       100\n",
            "\n"
          ]
        },
        {
          "output_type": "display_data",
          "data": {
            "text/plain": [
              "<Figure size 640x480 with 2 Axes>"
            ],
            "image/png": "[encoded data removed]"
          },
          "metadata": {}
        }
      ]
    },
    {
      "cell_type": "code",
      "source": [
        "import json\n",
        "\n",
        "arr = np.array(y_pred_svc)\n",
        "list_to_save = arr.tolist()\n",
        "\n",
        "with open('SVM_y_pred_list.json', 'w') as f:\n",
        "    json.dump(list_to_save, f)"
      ],
      "metadata": {
        "id": "ASDBRrAzez2f"
      },
      "execution_count": null,
      "outputs": []
    },
    {
      "cell_type": "code",
      "source": [
        "y"
      ],
      "metadata": {
        "colab": {
          "base_uri": "https://localhost:8080/"
        },
        "id": "sa9wbXk6gYgV",
        "outputId": "2e29b8ae-9c97-4cb7-da10-ba56d3cf928f"
      },
      "execution_count": null,
      "outputs": [
        {
          "output_type": "execute_result",
          "data": {
            "text/plain": [
              "array([0, 1, 1, 0, 0, 0, 0, 0, 0, 0, 0, 1, 1, 0, 0, 0, 0, 0, 0, 0, 1, 1,\n",
              "       0, 0, 0, 0, 0, 1, 1, 1, 1, 1, 1, 1, 0, 1, 1, 0, 0, 0, 0, 0, 0, 0,\n",
              "       1, 1, 1, 1, 1, 1, 1, 0, 0, 0, 1, 1, 1, 1, 0, 0, 0, 0, 0, 1, 1, 1,\n",
              "       1, 1, 0, 1, 1, 1, 1, 1, 1, 1, 1, 1, 1, 1, 1, 1, 1, 1, 1, 1, 0, 0,\n",
              "       0, 0, 0, 0, 0, 0, 0, 0, 0, 0, 0, 0])"
            ]
          },
          "metadata": {},
          "execution_count": 31
        }
      ]
    }
  ]
}